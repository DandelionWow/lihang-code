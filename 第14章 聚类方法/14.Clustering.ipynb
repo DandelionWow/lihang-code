{
 "cells": [
  {
   "cell_type": "markdown",
   "metadata": {
    "colab_type": "text",
    "id": "_lhcu-eFro6f"
   },
   "source": [
    "# 第14章聚类方法"
   ]
  },
  {
   "attachments": {},
   "cell_type": "markdown",
   "metadata": {},
   "source": [
    "1.聚类是针对给定的样本，依据它们属性的相似度或距离，将其归并到若干个“类”或“簇”的数据分析问题。一个类是样本的一个子集。直观上，相似的样本聚集在同类，不相似的样本分散在不同类。\n",
    "\n",
    "2.距离或相似度度量在聚类中起着重要作用。\n",
    "\n",
    "常用的距离度量有闵可夫斯基距离，包括欧氏距离、曼哈顿距离、切比雪夫距离以及马哈拉诺比斯距离。常用的相似度度量有相关系数、夹角余弦。\n",
    "用距离度量相似度时，距离越小表示样本越相似；用相关系数时，相关系数越大表示样本越相似。\n",
    "\n",
    "3.类是样本的子集，比如有如下基本定义：\n",
    "用$G$表示类或簇，用$x_i$,$x_j$；等表示类中的样本，用$d_{ij}$表示样本$x_i$与样本$x_j$之间的距离。如果对任意的$x _ { i } , x _ { j } \\in G$，有$$d _ { i j } \\leq T$$\n",
    "则称$G$为一个类或簇。\n",
    "\n",
    "描述类的特征的指标有中心、直径、散布矩阵、协方差矩阵。\n",
    "\n",
    "4.聚类过程中用到类与类之间的距离也称为连接类与类之间的距离包括最短距离、最长距离、中心距离、平均距离。\n",
    "\n",
    "5.层次聚类假设类别之间存在层次结构，将样本聚到层次化的类中层次聚类又有聚合或自下而上、分裂或自上而下两种方法。\n",
    "\n",
    "聚合聚类开始将每个样本各自分到一个类；之后将相距最近的两类合并，建立一个新的类，重复此操作直到满足停止条件；得到层次化的类别。分裂聚类开始将所有样本分到一个类；之后将已有类中相距最远的样本分到两个新的类，重复此操作直到满足停止条件；得到层次化的类别。\n",
    "\n",
    "聚合聚类需要预先确定下面三个要素：\n",
    "\n",
    "（1）距离或相似度；\n",
    "（2）合并规则；\n",
    "（3）停止条件。\n",
    "\n",
    "根据这些概念的不同组合，就可以得到不同的聚类方法。\n",
    "\n",
    "6.$k$均值聚类是常用的聚类算法，有以下特点。基于划分的聚类方法；类别数k事先指定；以欧氏距离平方表示样本之间的距离或相似度，以中心或样本的均值表示类别；以样本和其所属类的中心之间的距离的总和为优化的目标函数；得到的类别是平坦的、非层次化的；算法是迭代算法，不能保证得到全局最优。\n",
    "\n",
    "$k$均值聚类算法，首先选择k个类的中心，将样本分到与中心最近的类中，得到一个聚类结果；然后计算每个类的样本的均值，作为类的新的中心；重复以上步骤，直到收敛为止。"
   ]
  },
  {
   "cell_type": "markdown",
   "metadata": {
    "colab_type": "text",
    "id": "hGPg5M7wsOQY"
   },
   "source": [
    "### 层次聚类 \n",
    "\n",
    "1. **聚合**（自下而上）：聚合法开始将每个样本各自分裂到一个类，之后将相距最近的两类合并，建立一个新的类，重复次操作知道满足停止条件，得到层次化的类别。\n",
    "\n",
    "2. **分裂**（自上而下）： 分裂法开始将所有样本分到一个类，之后将已有类中相距最远的样本分到两个新的类，重复此操作直到满足停止条件，得到层次化的类别。\n",
    "\n",
    "\n",
    "### k均值聚类\n",
    "\n",
    "k均值聚类是基于中心的聚类方法，通过迭代，将样本分到k个类中，使得每个样本与其所属类的中心或均值最近，得到k个平坦的，非层次化的类别，构成对空间的划分。"
   ]
  },
  {
   "cell_type": "code",
   "execution_count": 1,
   "metadata": {
    "colab": {},
    "colab_type": "code",
    "id": "qAlQYJ2Srd2_"
   },
   "outputs": [],
   "source": [
    "import math\n",
    "import random\n",
    "import numpy as np\n",
    "from sklearn import datasets,cluster\n",
    "import matplotlib.pyplot as plt"
   ]
  },
  {
   "cell_type": "code",
   "execution_count": 2,
   "metadata": {
    "colab": {},
    "colab_type": "code",
    "id": "M_XOaWU5xpjI"
   },
   "outputs": [],
   "source": [
    "iris = datasets.load_iris() # 加载数据集"
   ]
  },
  {
   "cell_type": "code",
   "execution_count": 3,
   "metadata": {
    "colab": {
     "base_uri": "https://localhost:8080/",
     "height": 143
    },
    "colab_type": "code",
    "id": "_swSYxCr0RzU",
    "outputId": "88d09d3b-7700-4af5-e3b6-4d7735a3dd75"
   },
   "outputs": [
    {
     "data": {
      "text/plain": [
       "array([0, 0, 0, 0, 0, 0, 0, 0, 0, 0, 0, 0, 0, 0, 0, 0, 0, 0, 0, 0, 0, 0,\n",
       "       0, 0, 0, 0, 0, 0, 0, 0, 0, 0, 0, 0, 0, 0, 0, 0, 0, 0, 0, 0, 0, 0,\n",
       "       0, 0, 0, 0, 0, 0, 1, 1, 1, 1, 1, 1, 1, 1, 1, 1, 1, 1, 1, 1, 1, 1,\n",
       "       1, 1, 1, 1, 1, 1, 1, 1, 1, 1, 1, 1, 1, 1, 1, 1, 1, 1, 1, 1, 1, 1,\n",
       "       1, 1, 1, 1, 1, 1, 1, 1, 1, 1, 1, 1, 2, 2, 2, 2, 2, 2, 2, 2, 2, 2,\n",
       "       2, 2, 2, 2, 2, 2, 2, 2, 2, 2, 2, 2, 2, 2, 2, 2, 2, 2, 2, 2, 2, 2,\n",
       "       2, 2, 2, 2, 2, 2, 2, 2, 2, 2, 2, 2, 2, 2, 2, 2, 2, 2])"
      ]
     },
     "execution_count": 3,
     "metadata": {},
     "output_type": "execute_result"
    }
   ],
   "source": [
    "gt = iris['target'];gt # ;是个分隔符，用于把代码写在一行上"
   ]
  },
  {
   "cell_type": "markdown",
   "metadata": {
    "colab_type": "text",
    "id": "UoIRpftd9Uh2"
   },
   "source": [
    "3类"
   ]
  },
  {
   "cell_type": "code",
   "execution_count": 4,
   "metadata": {
    "colab": {
     "base_uri": "https://localhost:8080/",
     "height": 35
    },
    "colab_type": "code",
    "id": "pI6cS2sjy3Sz",
    "outputId": "3d9d01de-31b4-4eea-989c-b0a986a77af5"
   },
   "outputs": [
    {
     "data": {
      "text/plain": [
       "(150, 2)"
      ]
     },
     "execution_count": 4,
     "metadata": {},
     "output_type": "execute_result"
    }
   ],
   "source": [
    "iris['data'][:,:2].shape # 形状：150行，取前两列"
   ]
  },
  {
   "cell_type": "code",
   "execution_count": 5,
   "metadata": {
    "colab": {},
    "colab_type": "code",
    "id": "YwIVX5j81348"
   },
   "outputs": [],
   "source": [
    "data = iris['data'][:,:2] # 取150行，前两列"
   ]
  },
  {
   "cell_type": "code",
   "execution_count": 6,
   "metadata": {
    "colab": {},
    "colab_type": "code",
    "id": "h-wEZbDR03E_"
   },
   "outputs": [],
   "source": [
    "x = data[:,0] # 第一列作为x\n",
    "y = data[:,1] # 第二列作为y"
   ]
  },
  {
   "cell_type": "code",
   "execution_count": 7,
   "metadata": {
    "colab": {
     "base_uri": "https://localhost:8080/",
     "height": 269
    },
    "colab_type": "code",
    "id": "bW_lxjVdy4rW",
    "outputId": "ded2fc31-a69a-4e40-b0d4-350b995488ce"
   },
   "outputs": [
    {
     "data": {
      "image/png": "[encoded data removed]",
      "text/plain": [
       "<Figure size 640x480 with 1 Axes>"
      ]
     },
     "metadata": {},
     "output_type": "display_data"
    }
   ],
   "source": [
    "plt.scatter(x, y, color='green') # 散点图\n",
    "plt.xlim(4, 8) # x轴的范围\n",
    "plt.ylim(1, 5) # y轴的范围\n",
    "plt.show() # 展示"
   ]
  },
  {
   "cell_type": "code",
   "execution_count": 8,
   "metadata": {
    "colab": {},
    "colab_type": "code",
    "id": "WkcMa9cs2onL"
   },
   "outputs": [],
   "source": [
    "# 定义聚类数的节点\n",
    "\n",
    "class ClusterNode:\n",
    "    def __init__(self, vec, left=None, right=None, distance=-1, id=None, count=1):\n",
    "        \"\"\"\n",
    "        :param vec: 保存两个数据聚类后形成新的中心\n",
    "        :param left: 左节点\n",
    "        :param right:  右节点\n",
    "        :param distance: 两个节点的距离\n",
    "        :param id: 用来标记哪些节点是计算过的\n",
    "        :param count: 这个节点的叶子节点个数\n",
    "        \"\"\"\n",
    "        self.vec = vec\n",
    "        self.left = left\n",
    "        self.right = right\n",
    "        self.distance = distance\n",
    "        self.id = id\n",
    "        self.count = count"
   ]
  },
  {
   "cell_type": "code",
   "execution_count": 9,
   "metadata": {
    "colab": {},
    "colab_type": "code",
    "id": "_M1vGW8s5ycx"
   },
   "outputs": [],
   "source": [
    "def euler_distance(point1: np.ndarray, point2: list) -> float:\n",
    "    \"\"\"\n",
    "    计算两点之间的欧拉距离，支持多维\n",
    "    \"\"\"\n",
    "    distance = 0.0 # 距离\n",
    "    for a, b in zip(point1, point2):\n",
    "        distance += math.pow(a - b, 2) # 两样本的差的平方，累加\n",
    "    return math.sqrt(distance) # 开根号"
   ]
  },
  {
   "cell_type": "code",
   "execution_count": 10,
   "metadata": {
    "colab": {},
    "colab_type": "code",
    "id": "udgrrhsn19X1"
   },
   "outputs": [],
   "source": [
    "# 层次聚类（聚合法）\n",
    "\n",
    "class Hierarchical:\n",
    "    def __init__(self, k):\n",
    "        self.k = k\n",
    "        self.labels = None\n",
    "        \n",
    "    def fit(self, x):\n",
    "        nodes = [ClusterNode(vec=v, id=i) for i, v in enumerate(x)] # 生成节点集（每个样本是为一个类），id为i，值为v\n",
    "        distances = {} # 距离集合（字典，key为）\n",
    "        point_num, feature_num = x.shape # 节点数量，特征数量\n",
    "        self.labels = [-1] * point_num # 初始化标签为-1，150个\n",
    "        currentclustid = -1 # 用于给新的类赋id，从-1开始\n",
    "        while(len(nodes)) > self.k: # 直到k个类为止\n",
    "            min_dist = math.inf # 初始化最小值\n",
    "            nodes_len = len(nodes) # 节点长度\n",
    "            closest_part = None # 初始化最近\n",
    "            for i in range(nodes_len - 1): # 遍历每个节点i到除本身外，求距离\n",
    "                for j in range(i+1, nodes_len): # 除i外之后的\n",
    "                    d_key = (nodes[i].id, nodes[j].id) # 唯一表示节点i到节点j的距离\n",
    "                    if d_key not in distances: # 不在距离集合中，再计算\n",
    "                        distances[d_key] = euler_distance(nodes[i].vec, nodes[j].vec) # 计算欧式距离，放入集合中\n",
    "                    d = distances[d_key] # 取出节点i到j的距离\n",
    "                    if d < min_dist: # 判断是否是最小距离\n",
    "                        min_dist = d # 是最小\n",
    "                        closest_part = (i, j) #最近的组\n",
    "                        \n",
    "            part1, part2 = closest_part # 最近的节点A和B\n",
    "            node1, node2 = nodes[part1], nodes[part2] # 取出两个节点\n",
    "            new_vec = [ (node1.vec[i] * node1.count + node2.vec[i] * node2.count ) / (node1.count + node2.count)\n",
    "                        for i in range(feature_num)] # 算个平均向量\n",
    "            new_node = ClusterNode(vec=new_vec,\n",
    "                                   left=node1, # 节点A是新类的左孩子\n",
    "                                   right=node2, # B是右孩子\n",
    "                                   distance=min_dist, # 最小距离（左右孩子的）\n",
    "                                   id=currentclustid, # 新的id\n",
    "                                   count=node1.count + node2.count) # 新的类\n",
    "            currentclustid -= 1 # id减一\n",
    "            del nodes[part2], nodes[part1] # 删除节点集合中的已聚类节点，先删索引值大的，防止错删\n",
    "            nodes.append(new_node) # 新的类加入节点集\n",
    "            \n",
    "        self.nodes = nodes # 更新\n",
    "        self.calc_label() # 计算标签\n",
    "        \n",
    "    def calc_label(self):\n",
    "        \"\"\"\n",
    "        调取聚类的结果\n",
    "        \"\"\"\n",
    "        for i, node in enumerate(self.nodes):\n",
    "            # 将节点的所有叶子节点都分类\n",
    "            self.leaf_traversal(node, i)\n",
    "\n",
    "    def leaf_traversal(self, node: ClusterNode, label):\n",
    "        \"\"\"\n",
    "        递归遍历叶子节点\n",
    "        \"\"\"\n",
    "        if node.left == None and node.right == None:\n",
    "            self.labels[node.id] = label\n",
    "        if node.left:\n",
    "            self.leaf_traversal(node.left, label) # 左孩子\n",
    "        if node.right:\n",
    "            self.leaf_traversal(node.right, label) # 右\n",
    "            \n",
    "# https://zhuanlan.zhihu.com/p/32438294"
   ]
  },
  {
   "cell_type": "code",
   "execution_count": 11,
   "metadata": {
    "colab": {
     "base_uri": "https://localhost:8080/",
     "height": 107
    },
    "colab_type": "code",
    "id": "LwD9Iots6871",
    "outputId": "be527c5e-3be7-40ee-c361-37a0ab57440b"
   },
   "outputs": [
    {
     "name": "stdout",
     "output_type": "stream",
     "text": [
      "[2 2 2 2 2 2 2 2 2 2 2 2 2 2 2 2 2 2 2 2 2 2 2 2 2 2 2 2 2 2 2 2 2 2 2 2 2\n",
      " 2 2 2 2 2 2 2 2 2 2 2 2 2 0 0 0 0 0 0 0 2 0 2 2 0 0 0 0 0 0 0 0 0 0 0 0 0\n",
      " 0 0 0 0 0 0 0 0 0 0 0 0 0 0 0 0 0 0 0 2 0 0 0 0 2 0 0 0 1 0 0 1 2 1 0 1 0\n",
      " 0 0 0 0 0 0 1 1 0 0 0 1 0 0 1 0 0 0 1 1 1 0 0 0 1 0 0 0 0 0 0 0 0 0 0 0 0\n",
      " 0 0]\n"
     ]
    }
   ],
   "source": [
    "my = Hierarchical(3) # 初始化\n",
    "my.fit(data) # 聚类\n",
    "labels = np.array(my.labels) # 聚类结果\n",
    "print(labels) # 打印"
   ]
  },
  {
   "cell_type": "code",
   "execution_count": 12,
   "metadata": {
    "colab": {
     "base_uri": "https://localhost:8080/",
     "height": 281
    },
    "colab_type": "code",
    "id": "yJN0NPWn8F6K",
    "outputId": "f8238840-dd5e-45b3-e5b2-b4fa3836f7bb"
   },
   "outputs": [
    {
     "data": {
      "image/png": "[encoded data removed]",
      "text/plain": [
       "<Figure size 640x480 with 1 Axes>"
      ]
     },
     "metadata": {},
     "output_type": "display_data"
    }
   ],
   "source": [
    "# visualize result\n",
    "\n",
    "cat1 = data[np.where(labels==0)]\n",
    "cat2 = data[np.where(labels==1)]\n",
    "cat3 = data[np.where(labels==2)]\n",
    "\n",
    "plt.scatter(cat1[:,0], cat1[:,1], color='green')\n",
    "plt.scatter(cat2[:,0], cat2[:,1], color='red')\n",
    "plt.scatter(cat3[:,0], cat3[:,1], color='blue')\n",
    "plt.title('Hierarchical clustering with k=3')\n",
    "plt.xlim(4, 8)\n",
    "plt.ylim(1, 5)\n",
    "plt.show()"
   ]
  },
  {
   "cell_type": "code",
   "execution_count": 13,
   "metadata": {
    "colab": {
     "base_uri": "https://localhost:8080/",
     "height": 107
    },
    "colab_type": "code",
    "id": "7xilKyap8ghX",
    "outputId": "0a58379a-679a-4d0b-fe13-241585f60d81"
   },
   "outputs": [
    {
     "name": "stdout",
     "output_type": "stream",
     "text": [
      "[1 1 1 1 1 1 1 1 1 1 1 1 1 1 1 1 1 1 1 1 1 1 1 1 1 1 1 1 1 1 1 1 1 1 1 1 1\n",
      " 1 1 1 1 1 1 1 1 1 1 1 1 1 0 0 0 2 0 2 0 1 0 1 1 0 2 0 2 0 2 2 2 2 0 0 2 0\n",
      " 0 0 0 0 0 2 2 2 2 0 2 0 0 2 2 2 2 0 2 1 2 2 2 0 1 2 0 2 0 0 0 0 1 0 0 0 0\n",
      " 0 0 2 2 0 0 0 0 2 0 2 0 0 0 0 0 0 0 0 0 0 0 0 0 0 0 0 0 0 0 0 2 0 0 0 2 0\n",
      " 0 0]\n"
     ]
    }
   ],
   "source": [
    "sk = cluster.AgglomerativeClustering(3) # 调用封装好的层次聚类\n",
    "sk.fit(data) # 训练\n",
    "labels_ = sk.labels_ # 聚类结果\n",
    "print(labels_) # 打印"
   ]
  },
  {
   "cell_type": "code",
   "execution_count": 14,
   "metadata": {
    "colab": {
     "base_uri": "https://localhost:8080/",
     "height": 281
    },
    "colab_type": "code",
    "id": "hlFZeDdW9Bzr",
    "outputId": "7a837637-70e6-4c40-b6f2-c6a651fc4cae"
   },
   "outputs": [
    {
     "data": {
      "image/png": "[encoded data removed]",
      "text/plain": [
       "<Figure size 640x480 with 1 Axes>"
      ]
     },
     "metadata": {},
     "output_type": "display_data"
    }
   ],
   "source": [
    "# visualize result of sklearn\n",
    "\n",
    "cat1_ = data[np.where(labels_==0)]\n",
    "cat2_ = data[np.where(labels_==1)]\n",
    "cat3_ = data[np.where(labels_==2)]\n",
    "\n",
    "plt.scatter(cat1_[:,0], cat1_[:,1], color='green')\n",
    "plt.scatter(cat2_[:,0], cat2_[:,1], color='red')\n",
    "plt.scatter(cat3_[:,0], cat3_[:,1], color='blue')\n",
    "plt.title('Hierarchical clustering with k=3')\n",
    "plt.xlim(4, 8)\n",
    "plt.ylim(1, 5)\n",
    "plt.show()"
   ]
  },
  {
   "cell_type": "markdown",
   "metadata": {
    "colab_type": "text",
    "id": "La_XZDI5_Bng"
   },
   "source": [
    "---------------------------------------------------------------------------------------------------------------------------------"
   ]
  },
  {
   "cell_type": "code",
   "execution_count": 15,
   "metadata": {
    "colab": {},
    "colab_type": "code",
    "id": "fNl9AY6vAFJG"
   },
   "outputs": [],
   "source": [
    "# kmeans\n",
    "\n",
    "class MyKmeans:\n",
    "    def __init__(self, k, n=20):\n",
    "        self.k = k # k个子集\n",
    "        self.n = n # epochs\n",
    "        \n",
    "    def fit(self, x, centers=None):\n",
    "        # 第一步，随机选择 K 个点, 或者指定\n",
    "        if centers is None:\n",
    "            idx = np.random.randint(low=0, high=len(x), size=self.k) # 随机k个id\n",
    "            centers = x[idx] # 取出k个x，作为中心\n",
    "        #print(centers)\n",
    "        \n",
    "        inters = 0 # epoch\n",
    "        while inters < self.n:\n",
    "            #print(inters)\n",
    "            #print(centers)\n",
    "            points_set = {key: [] for key in range(self.k)}\n",
    "\n",
    "            # 第二步，遍历所有点 P，将 P 放入最近的聚类中心的集合中\n",
    "            for p in x:\n",
    "                nearest_index = np.argmin(np.sum((centers - p) ** 2, axis=1) ** 0.5) # 返回与某中心的欧氏距离的最小的中心索引0或1或2\n",
    "                points_set[nearest_index].append(p)\n",
    "\n",
    "            # 第三步，遍历每一个点集，计算新的聚类中心\n",
    "            for i_k in range(self.k):\n",
    "                centers[i_k] = sum(points_set[i_k])/len(points_set[i_k]) # 新的聚类中心\n",
    "                \n",
    "            inters += 1 # 自增\n",
    "\n",
    "        \n",
    "            \n",
    "        return points_set, centers # 返回最终聚类和中心\n",
    "        "
   ]
  },
  {
   "cell_type": "code",
   "execution_count": 32,
   "metadata": {
    "colab": {},
    "colab_type": "code",
    "id": "SyLthTXfBfnV"
   },
   "outputs": [],
   "source": [
    "m = MyKmeans(3) # 实例化，k=3\n",
    "points_set, centers = m.fit(data) # 聚类，得到最终聚类和中心"
   ]
  },
  {
   "cell_type": "code",
   "execution_count": 17,
   "metadata": {
    "colab": {
     "base_uri": "https://localhost:8080/",
     "height": 71
    },
    "colab_type": "code",
    "id": "VE2ryNB-O_Zt",
    "outputId": "55a70e58-fccd-4001-c67c-964ede3a8550"
   },
   "outputs": [
    {
     "data": {
      "text/plain": [
       "array([[5.77358491, 2.69245283],\n",
       "       [6.81276596, 3.07446809],\n",
       "       [5.006     , 3.428     ]])"
      ]
     },
     "execution_count": 17,
     "metadata": {},
     "output_type": "execute_result"
    }
   ],
   "source": [
    "centers # 打印聚类中心"
   ]
  },
  {
   "cell_type": "code",
   "execution_count": 18,
   "metadata": {
    "colab": {
     "base_uri": "https://localhost:8080/",
     "height": 281
    },
    "colab_type": "code",
    "id": "M26gflVYDzY4",
    "outputId": "abb1b7b1-df4f-4fa1-9a24-1dc722112c2c"
   },
   "outputs": [
    {
     "data": {
      "image/png": "[encoded data removed]",
      "text/plain": [
       "<Figure size 640x480 with 1 Axes>"
      ]
     },
     "metadata": {},
     "output_type": "display_data"
    }
   ],
   "source": [
    "# visualize result\n",
    "\n",
    "cat1 = np.asarray(points_set[0])\n",
    "cat2 = np.asarray(points_set[1])\n",
    "cat3 = np.asarray(points_set[2])\n",
    "\n",
    "for ix, p in enumerate(centers):\n",
    "    plt.scatter(p[0], p[1], color='C{}'.format(ix), marker='^', edgecolor='black', s=256)\n",
    "        \n",
    "plt.scatter(cat1_[:,0], cat1_[:,1], color='green')\n",
    "plt.scatter(cat2_[:,0], cat2_[:,1], color='red')\n",
    "plt.scatter(cat3_[:,0], cat3_[:,1], color='blue')\n",
    "plt.title('Hierarchical clustering with k=3')\n",
    "plt.xlim(4, 8)\n",
    "plt.ylim(1, 5)\n",
    "plt.show()"
   ]
  },
  {
   "cell_type": "code",
   "execution_count": 33,
   "metadata": {
    "colab": {},
    "colab_type": "code",
    "id": "HiFFoBdWN4fW"
   },
   "outputs": [
    {
     "name": "stderr",
     "output_type": "stream",
     "text": [
      "d:\\Development-Files\\Python38\\lib\\site-packages\\sklearn\\cluster\\_kmeans.py:870: FutureWarning: The default value of `n_init` will change from 10 to 'auto' in 1.4. Set the value of `n_init` explicitly to suppress the warning\n",
      "  warnings.warn(\n"
     ]
    }
   ],
   "source": [
    "# using sklearn\n",
    "from sklearn.cluster import KMeans\n",
    "kmeans = KMeans(n_clusters=3, max_iter=100).fit(data) # sklearn的聚类算法，训练，k=3\n",
    "gt_labels__ = kmeans.labels_ # 聚类结果\n",
    "centers__ = kmeans.cluster_centers_ # 中心"
   ]
  },
  {
   "cell_type": "code",
   "execution_count": 34,
   "metadata": {
    "colab": {
     "base_uri": "https://localhost:8080/",
     "height": 143
    },
    "colab_type": "code",
    "id": "LgKRAwmxObYS",
    "outputId": "032bcef5-ba68-4707-fbb0-f7a225ee968f"
   },
   "outputs": [
    {
     "data": {
      "text/plain": [
       "array([2, 2, 2, 2, 2, 2, 2, 2, 2, 2, 2, 2, 2, 2, 2, 2, 2, 2, 2, 2, 2, 2,\n",
       "       2, 2, 2, 2, 2, 2, 2, 2, 2, 2, 2, 2, 2, 2, 2, 2, 2, 2, 2, 2, 2, 2,\n",
       "       2, 2, 2, 2, 2, 2, 1, 1, 1, 0, 1, 0, 1, 0, 1, 0, 0, 0, 0, 0, 0, 1,\n",
       "       0, 0, 0, 0, 0, 0, 0, 0, 1, 1, 1, 1, 0, 0, 0, 0, 0, 0, 0, 0, 1, 0,\n",
       "       0, 0, 0, 0, 0, 0, 0, 0, 0, 0, 0, 0, 1, 0, 1, 1, 1, 1, 0, 1, 1, 1,\n",
       "       1, 1, 1, 0, 0, 1, 1, 1, 1, 0, 1, 0, 1, 0, 1, 1, 0, 0, 1, 1, 1, 1,\n",
       "       1, 0, 0, 1, 1, 1, 0, 1, 1, 1, 0, 1, 1, 1, 0, 1, 1, 0])"
      ]
     },
     "execution_count": 34,
     "metadata": {},
     "output_type": "execute_result"
    }
   ],
   "source": [
    "gt_labels__ # 打印结果"
   ]
  },
  {
   "cell_type": "code",
   "execution_count": 21,
   "metadata": {
    "colab": {
     "base_uri": "https://localhost:8080/",
     "height": 71
    },
    "colab_type": "code",
    "id": "A0iu18HPOcrH",
    "outputId": "5794f33c-4ebd-47dc-d351-05f44c17343d"
   },
   "outputs": [
    {
     "data": {
      "text/plain": [
       "array([[6.81276596, 3.07446809],\n",
       "       [5.77358491, 2.69245283],\n",
       "       [5.006     , 3.428     ]])"
      ]
     },
     "execution_count": 21,
     "metadata": {},
     "output_type": "execute_result"
    }
   ],
   "source": [
    "centers__ # 打印聚类中心"
   ]
  },
  {
   "cell_type": "code",
   "execution_count": 22,
   "metadata": {
    "colab": {
     "base_uri": "https://localhost:8080/",
     "height": 281
    },
    "colab_type": "code",
    "id": "wEfO5JVjOC5p",
    "outputId": "a6386044-2c7b-420d-f429-0b4960900f83"
   },
   "outputs": [
    {
     "data": {
      "image/png": "[encoded data removed]",
      "text/plain": [
       "<Figure size 640x480 with 1 Axes>"
      ]
     },
     "metadata": {},
     "output_type": "display_data"
    }
   ],
   "source": [
    "# visualize result\n",
    "\n",
    "cat1 = data[gt_labels__ == 0]\n",
    "cat2 = data[gt_labels__ == 1]\n",
    "cat3 = data[gt_labels__ == 2]\n",
    "\n",
    "for ix, p in enumerate(centers__):\n",
    "    plt.scatter(p[0], p[1], color='C{}'.format(ix), marker='^', edgecolor='black', s=256)\n",
    "        \n",
    "plt.scatter(cat1_[:,0], cat1_[:,1], color='green')\n",
    "plt.scatter(cat2_[:,0], cat2_[:,1], color='red')\n",
    "plt.scatter(cat3_[:,0], cat3_[:,1], color='blue')\n",
    "plt.title('kmeans using sklearn with k=3')\n",
    "plt.xlim(4, 8)\n",
    "plt.ylim(1, 5)\n",
    "plt.show()"
   ]
  },
  {
   "cell_type": "markdown",
   "metadata": {
    "colab_type": "text",
    "id": "u5XVOLGBKC4A"
   },
   "source": [
    "#### 寻找 K 值"
   ]
  },
  {
   "cell_type": "code",
   "execution_count": 35,
   "metadata": {
    "colab": {
     "base_uri": "https://localhost:8080/",
     "height": 281
    },
    "colab_type": "code",
    "id": "uCe9-EHaJrFz",
    "outputId": "4c2fe667-ee92-4909-c582-6605bd862ecc"
   },
   "outputs": [
    {
     "name": "stderr",
     "output_type": "stream",
     "text": [
      "d:\\Development-Files\\Python38\\lib\\site-packages\\sklearn\\cluster\\_kmeans.py:870: FutureWarning: The default value of `n_init` will change from 10 to 'auto' in 1.4. Set the value of `n_init` explicitly to suppress the warning\n",
      "  warnings.warn(\n",
      "d:\\Development-Files\\Python38\\lib\\site-packages\\sklearn\\cluster\\_kmeans.py:870: FutureWarning: The default value of `n_init` will change from 10 to 'auto' in 1.4. Set the value of `n_init` explicitly to suppress the warning\n",
      "  warnings.warn(\n",
      "d:\\Development-Files\\Python38\\lib\\site-packages\\sklearn\\cluster\\_kmeans.py:870: FutureWarning: The default value of `n_init` will change from 10 to 'auto' in 1.4. Set the value of `n_init` explicitly to suppress the warning\n",
      "  warnings.warn(\n",
      "d:\\Development-Files\\Python38\\lib\\site-packages\\sklearn\\cluster\\_kmeans.py:870: FutureWarning: The default value of `n_init` will change from 10 to 'auto' in 1.4. Set the value of `n_init` explicitly to suppress the warning\n",
      "  warnings.warn(\n",
      "d:\\Development-Files\\Python38\\lib\\site-packages\\sklearn\\cluster\\_kmeans.py:870: FutureWarning: The default value of `n_init` will change from 10 to 'auto' in 1.4. Set the value of `n_init` explicitly to suppress the warning\n",
      "  warnings.warn(\n",
      "d:\\Development-Files\\Python38\\lib\\site-packages\\sklearn\\cluster\\_kmeans.py:870: FutureWarning: The default value of `n_init` will change from 10 to 'auto' in 1.4. Set the value of `n_init` explicitly to suppress the warning\n",
      "  warnings.warn(\n",
      "d:\\Development-Files\\Python38\\lib\\site-packages\\sklearn\\cluster\\_kmeans.py:870: FutureWarning: The default value of `n_init` will change from 10 to 'auto' in 1.4. Set the value of `n_init` explicitly to suppress the warning\n",
      "  warnings.warn(\n",
      "d:\\Development-Files\\Python38\\lib\\site-packages\\sklearn\\cluster\\_kmeans.py:870: FutureWarning: The default value of `n_init` will change from 10 to 'auto' in 1.4. Set the value of `n_init` explicitly to suppress the warning\n",
      "  warnings.warn(\n",
      "d:\\Development-Files\\Python38\\lib\\site-packages\\sklearn\\cluster\\_kmeans.py:870: FutureWarning: The default value of `n_init` will change from 10 to 'auto' in 1.4. Set the value of `n_init` explicitly to suppress the warning\n",
      "  warnings.warn(\n"
     ]
    },
    {
     "data": {
      "image/png": "[encoded data removed]",
      "text/plain": [
       "<Figure size 640x480 with 1 Axes>"
      ]
     },
     "metadata": {},
     "output_type": "display_data"
    }
   ],
   "source": [
    "from sklearn.cluster import KMeans # 导包\n",
    "\n",
    "loss = [] # loss集合\n",
    "\n",
    "for i in range(1, 10): # 遍历\n",
    "    kmeans = KMeans(n_clusters=i, max_iter=100).fit(data) # 聚类，k从1到10\n",
    "    loss.append(kmeans.inertia_ / len(data) / 3) # 加入到loss集合中\n",
    "\n",
    "plt.title('K with loss')\n",
    "plt.plot(range(1, 10), loss)\n",
    "plt.show()"
   ]
  },
  {
   "cell_type": "markdown",
   "metadata": {
    "colab_type": "text",
    "id": "oaa4ModGKN4c"
   },
   "source": [
    "##### 例 14.2"
   ]
  },
  {
   "cell_type": "code",
   "execution_count": 24,
   "metadata": {
    "colab": {},
    "colab_type": "code",
    "id": "87a-GPzLKK62"
   },
   "outputs": [],
   "source": [
    "X = [[0, 2], [0, 0], [1, 0], [5, 0], [5, 2]] # 数据集"
   ]
  },
  {
   "cell_type": "code",
   "execution_count": 25,
   "metadata": {
    "colab": {
     "base_uri": "https://localhost:8080/",
     "height": 107
    },
    "colab_type": "code",
    "id": "NoacPJOONbqE",
    "outputId": "70147d21-d14d-416c-ab26-80b3f23793a2"
   },
   "outputs": [
    {
     "data": {
      "text/plain": [
       "array([[0, 2],\n",
       "       [0, 0],\n",
       "       [1, 0],\n",
       "       [5, 0],\n",
       "       [5, 2]])"
      ]
     },
     "execution_count": 25,
     "metadata": {},
     "output_type": "execute_result"
    }
   ],
   "source": [
    "np.asarray(X) # 打印"
   ]
  },
  {
   "cell_type": "code",
   "execution_count": 26,
   "metadata": {
    "colab": {},
    "colab_type": "code",
    "id": "w5CrPk68I9B9"
   },
   "outputs": [],
   "source": [
    "m = MyKmeans(2, 100) # 实例化，k=2，迭代100次\n",
    "points_set, centers = m.fit(np.asarray(X)) # 结果"
   ]
  },
  {
   "cell_type": "code",
   "execution_count": 27,
   "metadata": {
    "colab": {
     "base_uri": "https://localhost:8080/",
     "height": 53
    },
    "colab_type": "code",
    "id": "THUOLIKiKkLc",
    "outputId": "693794ef-67b6-4bd4-e1bb-3d05facd10f1"
   },
   "outputs": [
    {
     "data": {
      "text/plain": [
       "{0: [array([0, 0]), array([1, 0]), array([5, 0]), array([5, 2])],\n",
       " 1: [array([0, 2])]}"
      ]
     },
     "execution_count": 27,
     "metadata": {},
     "output_type": "execute_result"
    }
   ],
   "source": [
    "points_set # 打印结果"
   ]
  },
  {
   "cell_type": "code",
   "execution_count": 28,
   "metadata": {
    "colab": {
     "base_uri": "https://localhost:8080/",
     "height": 53
    },
    "colab_type": "code",
    "id": "1TqaAPnnKrkn",
    "outputId": "7bfe9b28-4cda-4a20-ca99-112373a4313c"
   },
   "outputs": [
    {
     "data": {
      "text/plain": [
       "array([[2, 0],\n",
       "       [0, 2]])"
      ]
     },
     "execution_count": 28,
     "metadata": {},
     "output_type": "execute_result"
    }
   ],
   "source": [
    "centers # 聚类中心"
   ]
  },
  {
   "cell_type": "code",
   "execution_count": 29,
   "metadata": {
    "colab": {},
    "colab_type": "code",
    "id": "7f_Jv2EFLmms"
   },
   "outputs": [
    {
     "name": "stderr",
     "output_type": "stream",
     "text": [
      "d:\\Development-Files\\Python38\\lib\\site-packages\\sklearn\\cluster\\_kmeans.py:870: FutureWarning: The default value of `n_init` will change from 10 to 'auto' in 1.4. Set the value of `n_init` explicitly to suppress the warning\n",
      "  warnings.warn(\n"
     ]
    }
   ],
   "source": [
    "kmeans = KMeans(n_clusters=2, max_iter=100).fit(np.asarray(X)) # 使用sklearn的算法"
   ]
  },
  {
   "cell_type": "code",
   "execution_count": 30,
   "metadata": {
    "colab": {
     "base_uri": "https://localhost:8080/",
     "height": 35
    },
    "colab_type": "code",
    "id": "S5oVNBQdL-sl",
    "outputId": "d04fd98e-8f47-4d8b-cf79-da6a19157843"
   },
   "outputs": [
    {
     "data": {
      "text/plain": [
       "array([0, 0, 0, 1, 1])"
      ]
     },
     "execution_count": 30,
     "metadata": {},
     "output_type": "execute_result"
    }
   ],
   "source": [
    "kmeans.labels_ # 打印结果"
   ]
  },
  {
   "cell_type": "code",
   "execution_count": 31,
   "metadata": {
    "colab": {
     "base_uri": "https://localhost:8080/",
     "height": 53
    },
    "colab_type": "code",
    "id": "MG_sSMnHMU_r",
    "outputId": "9c4393a2-3f9e-492e-bd10-98d48ee6495c"
   },
   "outputs": [
    {
     "data": {
      "text/plain": [
       "array([[0.33333333, 0.66666667],\n",
       "       [5.        , 1.        ]])"
      ]
     },
     "execution_count": 31,
     "metadata": {},
     "output_type": "execute_result"
    }
   ],
   "source": [
    "kmeans.cluster_centers_ # 中心"
   ]
  },
  {
   "cell_type": "markdown",
   "metadata": {},
   "source": [
    "----\n",
    "本章代码来源：https://github.com/hktxt/Learn-Statistical-Learning-Method\n",
    "\n",
    "本文代码更新地址：https://github.com/fengdu78/lihang-code\n",
    "\n",
    "中文注释制作：机器学习初学者公众号：ID:ai-start-com\n",
    "\n",
    "配置环境：python 3.5+\n",
    "\n",
    "代码全部测试通过。\n",
    "![gongzhong](../gongzhong.jpg)"
   ]
  }
 ],
 "metadata": {
  "colab": {
   "collapsed_sections": [],
   "name": "Clustering.ipynb",
   "provenance": [],
   "version": "0.3.2"
  },
  "kernelspec": {
   "display_name": "Python 3",
   "language": "python",
   "name": "python3"
  },
  "language_info": {
   "codemirror_mode": {
    "name": "ipython",
    "version": 3
   },
   "file_extension": ".py",
   "mimetype": "text/x-python",
   "name": "python",
   "nbconvert_exporter": "python",
   "pygments_lexer": "ipython3",
   "version": "3.8.6"
  }
 },
 "nbformat": 4,
 "nbformat_minor": 1
}
